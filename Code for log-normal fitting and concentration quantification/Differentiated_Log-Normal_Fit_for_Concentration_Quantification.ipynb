{
 "cells": [
  {
   "cell_type": "code",
   "execution_count": null,
   "id": "aaed8a05",
   "metadata": {},
   "outputs": [],
   "source": [
    "import numpy as np\n",
    "import matplotlib.pyplot as plt\n",
    "\n",
    "# Define the given function (1 minus a log-normal distribution component)\n",
    "def given_function(x):\n",
    "    A = 59.122\n",
    "    sigma = 0.636\n",
    "    mu = 6.847\n",
    "    return 1 - A / (x * sigma * np.sqrt(2 * np.pi)) * np.exp(- (np.log(x) - mu)**2 / (2 * sigma**2))\n",
    "\n",
    "# Generate x values (avoid 0 to prevent log(0))\n",
    "x_values = np.linspace(0.5, 1800, 3600)\n",
    "\n",
    "# Compute y values from the given function\n",
    "y_values = given_function(x_values)\n",
    "\n",
    "# Compute numerical derivative dy/dx using numpy's gradient\n",
    "dx = x_values[1] - x_values[0]\n",
    "dy_values = np.gradient(y_values, dx)\n",
    "\n",
    "# Plot original function and its derivative\n",
    "plt.figure(figsize=(10, 6))\n",
    "\n",
    "# Plot: Original function\n",
    "plt.subplot(2, 1, 1)\n",
    "plt.plot(x_values, y_values, label='Given Function')\n",
    "plt.axhline(y=1, color='black', linewidth=0.8, linestyle='--')\n",
    "plt.title('Given Function')\n",
    "plt.xlabel('x')\n",
    "plt.ylabel('y')\n",
    "plt.legend()\n",
    "\n",
    "# Plot: Derivative of the function\n",
    "plt.subplot(2, 1, 2)\n",
    "plt.plot(x_values, dy_values, label='Derivative of Given Function', color='orange')\n",
    "plt.axhline(y=0, color='black', linewidth=0.8, linestyle='--')\n",
    "plt.title('Derivative of the Given Function')\n",
    "plt.xlabel('x')\n",
    "plt.ylabel(\"dy/dx\")\n",
    "plt.legend()\n",
    "\n",
    "plt.tight_layout()\n",
    "plt.show()\n"
   ]
  }
 ],
 "metadata": {
  "kernelspec": {
   "display_name": "Python 3 (ipykernel)",
   "language": "python",
   "name": "python3"
  },
  "language_info": {
   "codemirror_mode": {
    "name": "ipython",
    "version": 3
   },
   "file_extension": ".py",
   "mimetype": "text/x-python",
   "name": "python",
   "nbconvert_exporter": "python",
   "pygments_lexer": "ipython3",
   "version": "3.10.9"
  }
 },
 "nbformat": 4,
 "nbformat_minor": 5
}
