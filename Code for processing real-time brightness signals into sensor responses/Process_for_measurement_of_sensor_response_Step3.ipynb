{
 "cells": [
  {
   "cell_type": "code",
   "execution_count": null,
   "id": "d2674bb2",
   "metadata": {},
   "outputs": [],
   "source": [
    "# Adjust the index to match the actual frame number (since np.diff reduces length by 1)\n",
    "max_change_index = max_change_index + 1\n",
    "\n",
    "# Extract data starting from the frame where maximum brightness change occurred\n",
    "new_data_starting_from_change = result_data[max_change_index:].copy()\n",
    "\n",
    "# Normalize frame numbers to start from zero\n",
    "new_data_starting_from_change[:, 0] -= max_change_index\n",
    "\n",
    "# Subtract the calculated brightness difference from the brightness values\n",
    "new_data_starting_from_change[:, 1] -= difference\n",
    "\n",
    "# Calculate the average brightness of the first 20 frames in the new dataset\n",
    "initial_avg_brightness = np.mean(new_data_starting_from_change[:20, 1])\n",
    "\n",
    "# Calculate the relative change in brightness\n",
    "rate_of_change = (new_data_starting_from_change[:, 1] - initial_avg_brightness) / initial_avg_brightness\n",
    "\n",
    "# Update the brightness column with the calculated rate of change\n",
    "new_data_starting_from_change[:, 1] = rate_of_change\n",
    "\n",
    "# Plot the normalized brightness change over time\n",
    "plt.figure(figsize=(10, 6))\n",
    "plt.plot(\n",
    "    new_data_starting_from_change[:, 0] / 120,\n",
    "    new_data_starting_from_change[:, 1],\n",
    "    label='Normalized Brightness Change',\n",
    "    color='black'\n",
    ")\n",
    "plt.title('Normalized Brightness Change Over Time')\n",
    "plt.xlabel('Time (minutes)')\n",
    "plt.ylabel('Relative Brightness Change (ΔI / I₀)')\n",
    "plt.legend()\n",
    "plt.show()\n"
   ]
  }
 ],
 "metadata": {
  "kernelspec": {
   "display_name": "Python 3 (ipykernel)",
   "language": "python",
   "name": "python3"
  },
  "language_info": {
   "codemirror_mode": {
    "name": "ipython",
    "version": 3
   },
   "file_extension": ".py",
   "mimetype": "text/x-python",
   "name": "python",
   "nbconvert_exporter": "python",
   "pygments_lexer": "ipython3",
   "version": "3.10.9"
  }
 },
 "nbformat": 4,
 "nbformat_minor": 5
}
