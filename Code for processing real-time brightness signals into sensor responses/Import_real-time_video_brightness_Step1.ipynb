{
 "cells": [
  {
   "cell_type": "code",
   "execution_count": null,
   "id": "4c037cf7",
   "metadata": {},
   "outputs": [],
   "source": [
    "import cv2\n",
    "import numpy as np\n",
    "import matplotlib.pyplot as plt\n",
    "\n",
    "# Set the path to the video file\n",
    "video_path = 'path/to/your/video.avi'  # Replace with your actual path\n",
    "\n",
    "# Load the video file\n",
    "cap = cv2.VideoCapture(video_path)\n",
    "\n",
    "frame_brightness = []  # List to store average brightness of each frame\n",
    "frame_numbers = []     # List to store frame numbers\n",
    "\n",
    "frame_number = 0  # Initialize frame number\n",
    "\n",
    "while cap.isOpened():\n",
    "    ret, frame = cap.read()\n",
    "    if not ret:\n",
    "        break  # Exit the loop if no more frames\n",
    "\n",
    "    # Convert frame to grayscale\n",
    "    gray_frame = cv2.cvtColor(frame, cv2.COLOR_BGR2GRAY)\n",
    "\n",
    "    # Calculate average brightness\n",
    "    avg_brightness = np.mean(gray_frame)\n",
    "    frame_brightness.append(avg_brightness)\n",
    "\n",
    "    # Save current frame number\n",
    "    frame_numbers.append(frame_number)\n",
    "    frame_number += 1  # Increment frame number\n",
    "\n",
    "# Release the video file\n",
    "cap.release()\n",
    "\n",
    "# Create result array (frame number, average brightness)\n",
    "result_data = np.column_stack((frame_numbers, frame_brightness))\n",
    "\n",
    "# Print the result array (optional)\n",
    "print(result_data)\n",
    "\n",
    "# Plot the results (optional)\n",
    "plt.figure(figsize=(10, 6))\n",
    "plt.plot(result_data[:, 0] / 120, result_data[:, 1], label='Average Brightness')\n",
    "plt.title('Average Brightness over Time')\n",
    "plt.xlabel('Time (minutes)')\n",
    "plt.ylabel('Average Brightness')\n",
    "plt.legend()\n",
    "plt.show()\n"
   ]
  }
 ],
 "metadata": {
  "kernelspec": {
   "display_name": "Python 3 (ipykernel)",
   "language": "python",
   "name": "python3"
  },
  "language_info": {
   "codemirror_mode": {
    "name": "ipython",
    "version": 3
   },
   "file_extension": ".py",
   "mimetype": "text/x-python",
   "name": "python",
   "nbconvert_exporter": "python",
   "pygments_lexer": "ipython3",
   "version": "3.10.9"
  }
 },
 "nbformat": 4,
 "nbformat_minor": 5
}
