{
 "cells": [
  {
   "cell_type": "code",
   "execution_count": null,
   "id": "ac58a965",
   "metadata": {},
   "outputs": [],
   "source": [
    "# Calculate brightness changes between frames 100 to 140\n",
    "brightness_changes = np.diff(result_data[99:140, 1])  # Frame indices 100 to 140\n",
    "\n",
    "# Find the frame index with the maximum brightness change (adjust index to match original frame numbers)\n",
    "max_change_index = np.argmax(np.abs(brightness_changes)) + 100\n",
    "\n",
    "# Define the range before and after the max change frame (10-frame window, excluding nearby transition frames)\n",
    "range_before = result_data[max_change_index - 20:max_change_index - 10, 1]  # 11–20 frames before\n",
    "range_after = result_data[max_change_index + 11:max_change_index + 21, 1]  # 11–20 frames after\n",
    "\n",
    "# Compute average brightness in both ranges\n",
    "avg_before = np.mean(range_before)\n",
    "avg_after = np.mean(range_after)\n",
    "\n",
    "# Compute the absolute difference between the two averages\n",
    "difference = np.abs(avg_after - avg_before)\n",
    "\n",
    "# Output the index of max change and brightness values\n",
    "max_change_index, avg_before, avg_after, difference\n"
   ]
  }
 ],
 "metadata": {
  "kernelspec": {
   "display_name": "Python 3 (ipykernel)",
   "language": "python",
   "name": "python3"
  },
  "language_info": {
   "codemirror_mode": {
    "name": "ipython",
    "version": 3
   },
   "file_extension": ".py",
   "mimetype": "text/x-python",
   "name": "python",
   "nbconvert_exporter": "python",
   "pygments_lexer": "ipython3",
   "version": "3.10.9"
  }
 },
 "nbformat": 4,
 "nbformat_minor": 5
}
